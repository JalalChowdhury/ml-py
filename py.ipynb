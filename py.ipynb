{
 "cells": [
  {
   "cell_type": "code",
   "execution_count": null,
   "id": "56df60b4",
   "metadata": {},
   "outputs": [],
   "source": [
    "import pandas as pd"
   ]
  },
  {
   "cell_type": "code",
   "execution_count": 5,
   "id": "904b50a5",
   "metadata": {},
   "outputs": [
    {
     "name": "stdout",
     "output_type": "stream",
     "text": [
      "Hello! Machine learning\n"
     ]
    }
   ],
   "source": [
    "print(\"Hello! Machine learning\")"
   ]
  },
  {
   "cell_type": "markdown",
   "id": "ee299f08",
   "metadata": {},
   "source": [
    "Dataset"
   ]
  },
  {
   "cell_type": "code",
   "execution_count": 6,
   "id": "34123dbd",
   "metadata": {},
   "outputs": [
    {
     "name": "stdout",
     "output_type": "stream",
     "text": [
      "{'Name': ['জসিম', 'করিম', 'মিতা', 'অন্তরা'], 'Location': ['রাজশাহী', 'ঢাকা', 'রংপুর', 'কুষ্টিয়া'], 'Age': [24, 13, 53, 33]}\n"
     ]
    }
   ],
   "source": [
    "data = {'Name': [\"জসিম\", \"করিম\", \"মিতা\", \"অন্তরা\"],\n",
    "        'Location' : [\"রাজশাহী\", \"ঢাকা\", \"রংপুর\", \"কুষ্টিয়া\"],\n",
    "        'Age' : [24, 13, 53, 33]\n",
    "       }\n",
    "print(data)"
   ]
  },
  {
   "cell_type": "code",
   "execution_count": 8,
   "id": "4a205a4a",
   "metadata": {},
   "outputs": [
    {
     "name": "stdout",
     "output_type": "stream",
     "text": [
      "cat 3\n",
      "window 6\n",
      "defenestrate 12\n"
     ]
    }
   ],
   "source": [
    "words = ['cat', 'window', 'defenestrate']\n",
    "for w in words:\n",
    "   print(w, len(w))"
   ]
  },
  {
   "cell_type": "markdown",
   "id": "ded84fab",
   "metadata": {},
   "source": [
    "Calculate BMI value -->"
   ]
  },
  {
   "cell_type": "code",
   "execution_count": 4,
   "id": "aec223fb",
   "metadata": {},
   "outputs": [
    {
     "name": "stdout",
     "output_type": "stream",
     "text": [
      "26.084520850110295\n"
     ]
    }
   ],
   "source": [
    "height = 1.69\n",
    "weight = 74.5\n",
    "bmi = weight/height ** 2\n",
    "print(bmi)"
   ]
  }
 ],
 "metadata": {
  "kernelspec": {
   "display_name": "Python 3 (ipykernel)",
   "language": "python",
   "name": "python3"
  },
  "language_info": {
   "codemirror_mode": {
    "name": "ipython",
    "version": 3
   },
   "file_extension": ".py",
   "mimetype": "text/x-python",
   "name": "python",
   "nbconvert_exporter": "python",
   "pygments_lexer": "ipython3",
   "version": "3.9.12"
  }
 },
 "nbformat": 4,
 "nbformat_minor": 5
}
