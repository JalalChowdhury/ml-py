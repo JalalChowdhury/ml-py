{
 "cells": [
  {
   "cell_type": "markdown",
   "id": "5841e216",
   "metadata": {},
   "source": [
    "#Creating Variables\n",
    "Python has no command for declaring a variable."
   ]
  },
  {
   "cell_type": "code",
   "execution_count": 1,
   "id": "b8c9eff8",
   "metadata": {},
   "outputs": [
    {
     "name": "stdout",
     "output_type": "stream",
     "text": [
      "22\n",
      "Jamal\n",
      "67000.5\n"
     ]
    }
   ],
   "source": [
    "age = 22\n",
    "name = \"Jamal\"\n",
    "salary = 67000.5\n",
    "print(age)\n",
    "print(name)\n",
    "print(salary)\n"
   ]
  },
  {
   "cell_type": "markdown",
   "id": "628714e3",
   "metadata": {},
   "source": [
    "#Data Type"
   ]
  },
  {
   "cell_type": "code",
   "execution_count": 4,
   "id": "5e5f66b9",
   "metadata": {},
   "outputs": [
    {
     "name": "stdout",
     "output_type": "stream",
     "text": [
      "<class 'int'>\n",
      "<class 'float'>\n",
      "<class 'bool'>\n"
     ]
    }
   ],
   "source": [
    "age = 32\n",
    "name = \"Karim\"\n",
    "isMale= True;\n",
    "print(type(age))\n",
    "print(type(salary))\n",
    "print(type(isMale))"
   ]
  },
  {
   "cell_type": "markdown",
   "id": "94171bdf",
   "metadata": {},
   "source": [
    "#List\n",
    "Lists are used to store multiple items in a single variable."
   ]
  },
  {
   "cell_type": "code",
   "execution_count": 8,
   "id": "7b6ea179",
   "metadata": {},
   "outputs": [
    {
     "name": "stdout",
     "output_type": "stream",
     "text": [
      "['Pen', 'Pencil', 'NoteBook']\n",
      "['Pen', 'Book', 'Pencil']\n",
      "[1, 2, 3, 4, 6]\n",
      "['NoteBook', 'Pen', 'Pencil']\n",
      "['Pen', 'Book', 'Pencil', 'NoteBook', 'Pen', 'Pencil']\n"
     ]
    }
   ],
   "source": [
    "list1 = [\"Pen\",\"Pencil\",\"NoteBook\"]\n",
    "list2 = list((\"Pen\",\"Book\",\"Pencil\"))\n",
    "list3 =[1,2,3,4,6]\n",
    "print(list1)\n",
    "print(list2)\n",
    "print(list3)\n",
    "\n",
    "#sort List\n",
    "list1.sort()\n",
    "print(list1)\n",
    "\n",
    "#join list\n",
    "\n",
    "list4 = list2 + list1\n",
    "print(list4)\n"
   ]
  },
  {
   "cell_type": "markdown",
   "id": "77375b39",
   "metadata": {},
   "source": [
    "#Set\n",
    "Sets are used to store multiple items in a single variable.\n",
    "Sets cannot have two items with the same value."
   ]
  },
  {
   "cell_type": "code",
   "execution_count": 12,
   "id": "44f405e4",
   "metadata": {},
   "outputs": [
    {
     "name": "stdout",
     "output_type": "stream",
     "text": [
      "{1, 2, 3, 4, 5, 6, 7, 8}\n",
      "8\n"
     ]
    }
   ],
   "source": [
    "st = {1,2,3,1,1,4,5,5,6,8,7}\n",
    "print(st)\n",
    "print(len(st))"
   ]
  },
  {
   "cell_type": "markdown",
   "id": "a549e994",
   "metadata": {},
   "source": [
    "#Dictionary\n",
    "Dictionaries are used to store data values in key:value pairs.\n",
    "A dictionary is a collection which is ordered*, changeable and do not allow duplicates."
   ]
  },
  {
   "cell_type": "code",
   "execution_count": 15,
   "id": "3dad7113",
   "metadata": {},
   "outputs": [
    {
     "name": "stdout",
     "output_type": "stream",
     "text": [
      "{'name': 'Jamal', 'address': 'Sylhet', 'age': 22}\n",
      "Jamal\n",
      "22\n",
      "dict_keys(['name', 'address', 'age'])\n"
     ]
    }
   ],
   "source": [
    "store = {\n",
    "    \"name\": \"Jamal\",\n",
    "    \"address\":\"Sylhet\",\n",
    "    \"age\":22\n",
    "}\n",
    "print(store)\n",
    "print(store[\"name\"])\n",
    "print(store.get(\"age\"))\n",
    "print(store.keys())"
   ]
  },
  {
   "cell_type": "markdown",
   "id": "25cf186f",
   "metadata": {},
   "source": [
    "#If-Else"
   ]
  },
  {
   "cell_type": "code",
   "execution_count": 16,
   "id": "d8649a59",
   "metadata": {},
   "outputs": [
    {
     "name": "stdout",
     "output_type": "stream",
     "text": [
      "Adult\n"
     ]
    }
   ],
   "source": [
    "age=22\n",
    "if age >=18 :\n",
    "    print(\"Adult\");\n",
    "else:\n",
    "    print(\"Child\")"
   ]
  },
  {
   "cell_type": "markdown",
   "id": "f06bbad8",
   "metadata": {},
   "source": [
    "#Loops"
   ]
  },
  {
   "cell_type": "code",
   "execution_count": 20,
   "id": "6a06a3d4",
   "metadata": {},
   "outputs": [
    {
     "name": "stdout",
     "output_type": "stream",
     "text": [
      "2\n",
      "3\n",
      "4\n",
      "5\n",
      "6\n",
      "7\n",
      "8\n",
      "9\n",
      " \n",
      "1\n",
      "2\n",
      "3\n",
      "4\n",
      "5\n",
      "6\n"
     ]
    }
   ],
   "source": [
    "i=2\n",
    "while(i<10) :\n",
    "    print(i)\n",
    "    i+=1\n",
    "print(\" \")\n",
    "#for loop\n",
    "numbers = [1,2,3,4,5,6]\n",
    "\n",
    "for i in numbers:\n",
    "    print(i)\n"
   ]
  },
  {
   "cell_type": "markdown",
   "id": "92edf40c",
   "metadata": {},
   "source": [
    "Functions"
   ]
  },
  {
   "cell_type": "code",
   "execution_count": 23,
   "id": "2b0292b1",
   "metadata": {},
   "outputs": [
    {
     "name": "stdout",
     "output_type": "stream",
     "text": [
      "hello everyone!\n",
      "Sum :  12\n"
     ]
    }
   ],
   "source": [
    "def Hello():\n",
    "    print(\"hello everyone!\")\n",
    "\n",
    "Hello()\n",
    "\n",
    "def sum(a,b):\n",
    "    print(\"Sum : \", a+b)\n",
    "\n",
    "sum(5,7)"
   ]
  }
 ],
 "metadata": {
  "kernelspec": {
   "display_name": "Python 3 (ipykernel)",
   "language": "python",
   "name": "python3"
  },
  "language_info": {
   "codemirror_mode": {
    "name": "ipython",
    "version": 3
   },
   "file_extension": ".py",
   "mimetype": "text/x-python",
   "name": "python",
   "nbconvert_exporter": "python",
   "pygments_lexer": "ipython3",
   "version": "3.9.12"
  }
 },
 "nbformat": 4,
 "nbformat_minor": 5
}
